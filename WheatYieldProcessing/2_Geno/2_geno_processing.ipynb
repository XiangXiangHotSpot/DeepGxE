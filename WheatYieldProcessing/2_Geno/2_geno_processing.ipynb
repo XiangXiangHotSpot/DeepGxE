{
 "cells": [
  {
   "cell_type": "markdown",
   "metadata": {},
   "source": [
    "# **Process for Wheat Yield Genotype Data**\n",
    "\n",
    "This step requires the file F_MAF0.01_Miss50_Het10-Merged.all.discover.lines.and.selection.candidates.vcf.imputed.CIMMYT.vcf.gz to be located in the source_data folder. First, run the script 1_geno_processing.sh, and then execute the notebook 2_geno_processing.ipynb."
   ]
  },
  {
   "cell_type": "code",
   "execution_count": null,
   "metadata": {},
   "outputs": [],
   "source": [
    "import csv\n",
    "\n",
    "def transpose_and_rename_csv(input_file, output_file):\n",
    "    try:\n",
    "        with open(input_file, 'r') as csvfile:\n",
    "            csvreader = csv.reader(csvfile)\n",
    "            data = list(csvreader)\n",
    "        \n",
    "        # Replace \"ID\" with \"Gid\" in the first cell\n",
    "        data[0][0] = \"Gid\"\n",
    "        \n",
    "        # Transpose the data\n",
    "        transposed_data = [[row[i] for row in data] for i in range(len(data[0]))]\n",
    "        \n",
    "        # Write the transposed data to a new CSV file\n",
    "        with open(output_file, 'w', newline='') as csvfile:\n",
    "            csvwriter = csv.writer(csvfile)\n",
    "            csvwriter.writerows(transposed_data)\n",
    "        \n",
    "        print(f'Transposition successful. Result saved to {output_file}')\n",
    "    except Exception as e:\n",
    "        print(f'Transposition failed: {str(e)}')\n",
    "\n",
    "input_file = 'output/genotype.csv'\n",
    "output_file = 'output/genotype_T.csv'\n",
    "transpose_and_rename_csv(input_file, output_file)\n"
   ]
  },
  {
   "cell_type": "code",
   "execution_count": null,
   "metadata": {},
   "outputs": [],
   "source": [
    "import pandas as pd\n",
    "\n",
    "# Read the genotype file and the unique identifier file\n",
    "genotype_data = pd.read_csv(\"output/genotype_T.csv\")\n",
    "unique_gid_data = pd.read_csv(\"../1_Pheno/output/UniqueGid.csv\")\n",
    "\n",
    "# # Convert the Gid column in the unique identifier file to a set for filtering\n",
    "unique_gid_set = set(unique_gid_data[\"Gid\"])\n",
    "\n",
    "# Filter the genotype file based on the Gid column\n",
    "filtered_genotype_data = genotype_data[genotype_data[\"Gid\"].isin(unique_gid_set)]\n",
    "\n",
    "filtered_genotype_data.to_csv(\"output/genotype_T_trimed.csv\", index=False)"
   ]
  },
  {
   "cell_type": "code",
   "execution_count": null,
   "metadata": {},
   "outputs": [],
   "source": [
    "import pandas as pd\n",
    "\n",
    "def merge_genotype_data(allpheno_filename, genotype_filename, output_filename):\n",
    "    allpheno_df = pd.read_csv(allpheno_filename)\n",
    "    genotype_df = pd.read_csv(genotype_filename)\n",
    "    \n",
    "    genotype_df.set_index(\"Gid\", inplace=True)\n",
    "    \n",
    "    merged_data = []\n",
    "    \n",
    "    for index, row in allpheno_df.iterrows():\n",
    "        print(index)\n",
    "        gid = row[\"Gid\"]\n",
    "        # Find the corresponding row in genotype_df\n",
    "        genotype_row = genotype_df.loc[gid]\n",
    "        # Append genotype data to pheno data and convert to list format\n",
    "        merged_row = list(row.values) + list(genotype_row.values)\n",
    "        # Add to the merged data list\n",
    "        merged_data.append(merged_row)\n",
    "    \n",
    "    # Create a new DataFrame to save the merged data\n",
    "    merged_df = pd.DataFrame(merged_data, columns=list(allpheno_df.columns) + list(genotype_df.columns))\n",
    "    \n",
    "    merged_df.to_csv(output_filename, index=False)\n",
    "\n",
    "if __name__ == \"__main__\":\n",
    "    # allpheno_filename = \"test.csv\"\n",
    "\n",
    "    allpheno_filename = \"../1_Pheno/output/AllWithGidDropMissingValuesSowHarFilteredGidLocUnormalNoDuplicated.csv\"\n",
    "    genotype_filename = \"output/genotype_T_trimed.csv\"\n",
    "    output_filename = \"output/YieldGeno.csv\"\n",
    "\n",
    "    merge_genotype_data(allpheno_filename, genotype_filename, output_filename)"
   ]
  }
 ],
 "metadata": {
  "kernelspec": {
   "display_name": "AIGS",
   "language": "python",
   "name": "python3"
  },
  "language_info": {
   "codemirror_mode": {
    "name": "ipython",
    "version": 3
   },
   "file_extension": ".py",
   "mimetype": "text/x-python",
   "name": "python",
   "nbconvert_exporter": "python",
   "pygments_lexer": "ipython3",
   "version": "3.7.15"
  }
 },
 "nbformat": 4,
 "nbformat_minor": 2
}
